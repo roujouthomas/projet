{
 "cells": [
  {
   "cell_type": "markdown",
   "id": "fc785a15",
   "metadata": {},
   "source": [
    "# Travaux dirigés/pratiques méthodes numériques et simulation\n",
    "## Chapitre 1"
   ]
  },
  {
   "cell_type": "code",
   "execution_count": null,
   "id": "5dafc82a",
   "metadata": {},
   "outputs": [],
   "source": [
    "from math import *\n",
    "import numpy as  np  \n",
    "import scipy as sp\n",
    "import scipy.stats as stats\n",
    "import math\n",
    "\n",
    "from pylab import *"
   ]
  },
  {
   "cell_type": "markdown",
   "id": "31709b59",
   "metadata": {},
   "source": [
    "## Exercice 1 (Simulation de vecteurs gaussiens)\n",
    "\n",
    "Soit $X = (X_1,X_2)$ un vecteur gaussien de loi $\\mathcal{N}(\\mu, \\Sigma)$, de moyenne $\\mu= \\begin{pmatrix} 1 \\\\ 2 \\end{pmatrix}$ et matrice de covariance $\\Sigma= \\begin{pmatrix} 4 & 2 \\\\ 2 & 10 \\end{pmatrix} $.\n",
    "\n",
    "> **Question 1.** Expliquer comment simuler une réalisation du vecteur $X$ à partir d'un générateur de la loi gaussienne standard. "
   ]
  },
  {
   "cell_type": "markdown",
   "id": "d15098b8",
   "metadata": {},
   "source": [
    "> **Question 2.** Implémenter une fonction qui prend en entrée $\\mu$, $\\Sigma$ et $n$ et qui retourne  $n$ réalisations indépendantes du vecteur $X$. Estimer $\\mu$ et $\\Sigma$ à partir de $n=1000$ réalisations de $X$."
   ]
  },
  {
   "cell_type": "code",
   "execution_count": null,
   "id": "40f91eb6",
   "metadata": {},
   "outputs": [],
   "source": [
    "# function qui génère une réalisation de X \\sim N(\\mu, \\Sigma)\n",
    "def generate_gaussian_vector(mu,Sigma,n):\n",
    "    L = ...\n",
    "    N = ...\n",
    "    return np.tile(mu,(n,1)) +  np.dot(N,L.T) # attention calcul de mu^T+G^TL^T : vecteur ligne en python\n",
    "\n",
    "# une realisation de X\n",
    "mu    =  \n",
    "Sigma =  \n",
    "n     = \n",
    "generate_gaussian_vector(mu,Sigma,n)"
   ]
  },
  {
   "cell_type": "markdown",
   "id": "519916b8",
   "metadata": {},
   "source": [
    "> **Question 3.** Déterminer la loi de $X_1 - 2X_2$. "
   ]
  },
  {
   "cell_type": "markdown",
   "id": "f8e3352f",
   "metadata": {},
   "source": [
    "## Exercice 2 (Simulation de processus gaussiens particuliers)\n",
    "\n",
    "En s'inspirant de l'exercice précédent, tracer la trajectoire de trois processus Gaussiens sur l'intervalle $I = [0,1]$ de fonction moyenne nulle et dont la fonction covariance est définie ci-après.  \n",
    "\n",
    "- Processus d'Orstein-Uhlenbeck : $C(s,t) = \\exp(-\\frac{|t-s|}{2})$.\n",
    "- Bruit blanc : $C(s,t) = \\delta_s(t)$.\n",
    "- Mouvement brownien ou processus de Wiener : $C(s,t) = \\min(s,t)$.\n"
   ]
  },
  {
   "cell_type": "code",
   "execution_count": null,
   "id": "25377884",
   "metadata": {},
   "outputs": [],
   "source": [
    "N = 200\n",
    "T = 1\n",
    "\n",
    "fig, (ax1, ax2,ax3) = plt.subplots(3, 1)\n",
    "fig.suptitle('Differents processus gaussiens')\n",
    "\n",
    "# processus orstein uhlenbeck\n",
    "Sigma =  \n",
    "for i in range(1,N+1):\n",
    "    for j in range(1,N+1):\n",
    "        Sigma[i-1,j-1]= \n",
    "\n",
    "L =  \n",
    "G =  \n",
    "X =  \n",
    "\n",
    "ax1.plot(X[1:N+1],label=\"Processus Orstein Uhlenbeck\")\n",
    "ax1.legend(bbox_to_anchor=(1.05, 1), loc='upper left', borderaxespad=0.)\n",
    "\n",
    "# processus orstein uhlenbeck\n",
    "\n",
    "\n",
    "...\n",
    "\n",
    "\n",
    "ax2.plot(X[1:N+1],label=\"Bruit blanc\")\n",
    "ax2.legend(bbox_to_anchor=(1.05, 1), loc='upper left', borderaxespad=0.)\n",
    "\n",
    "# processus de Wiener\n",
    "\n",
    "...\n",
    "        \n",
    "ax3.plot(X[1:N+1],label=\"Processus de Wiener\")\n",
    "ax3.legend(bbox_to_anchor=(1.05, 1), loc='upper left', borderaxespad=0.)\n",
    "\n"
   ]
  },
  {
   "cell_type": "markdown",
   "id": "450a1b2e",
   "metadata": {},
   "source": [
    "## Exercice 3 (Mouvement brownien comme la limite d'une marche aléatoire)"
   ]
  },
  {
   "cell_type": "markdown",
   "id": "f116e0f0",
   "metadata": {},
   "source": [
    "Soit $X=\\{X_n\\}_{n\\ge 0}$ une marche aléatoire définie par \n",
    "$$\n",
    "X_{n} = X_{n-1}+\\xi_{n}, n\\ge 1 \n",
    "$$\n",
    "avec $X_0=0$. Les v.a. $\\xi_n$ sont i.i.d. et suivent une loi de Rademacher donnée par $\\mathbb{P}(\\xi_n = \\pm 1) = 1/2$.\n",
    "\n",
    "> **Question 1.** Ecrire un script python pour simuler une réalisation de la marche en temps définie précédemment. "
   ]
  },
  {
   "cell_type": "code",
   "execution_count": null,
   "id": "bdee899a",
   "metadata": {},
   "outputs": [],
   "source": [
    "##############################################################################\n",
    "# MARCHE EN TEMPS Xn\n",
    "##############################################################################\n",
    "\n",
    "# rademacher distribution\n",
    "n  =  \n",
    "xi =  \n",
    "Xn =  \n",
    "\n",
    "# trace\n",
    "plt.figure(1)\n",
    "plt.grid()\n",
    "plt.plot(Xn,label=\"Xn\")\n",
    "plt.title('Marche en temps')\n",
    "plt.legend(bbox_to_anchor=(1.05, 1), loc='upper left', borderaxespad=0.)\n",
    "plt.show()\n",
    "\n",
    "##############################################################################\n",
    "# INTERPOLE LINEAIRE YN\n",
    "##############################################################################\n",
    "\n",
    "\n",
    "# grille temporelle\n",
    "tps =  \n",
    "\n",
    "# interpolant \n",
    "Yn =  \n",
    "xi =  \n",
    "for i in range(0,n):\n",
    "    ftn   =  \n",
    "    Yn[i] =  \n",
    "\n",
    "# trace\n",
    "plt.figure(2)\n",
    "plt.grid()\n",
    "plt.plot(tps,Yn,label=\"Yn\")\n",
    "plt.title('Processus Yn')\n",
    "plt.legend(bbox_to_anchor=(1.05, 1), loc='upper left', borderaxespad=0.)\n",
    "plt.show()\n"
   ]
  },
  {
   "cell_type": "markdown",
   "id": "56080d4d",
   "metadata": {},
   "source": [
    "> **Question 2.**\n",
    "> - Vérifier que $\\mathbb{E}(\\xi_n) =0$ et $\\mathbb{V}(\\xi_n) = 1$ puis en déduire $\\mathbb{E}(X_n)=0$ et $\\mathrm{cov}(X_n,X_m) = \\mathrm{min}(n,m)$. \n",
    "> - Justifier que $\\frac{1}{n} X_n \\to 0$ p.s. quand $n \\to \\infty$.\n",
    "> - Montrer que que $\\frac{X_n}{\\sqrt{n}} \\sim \\mathcal{N}(0,1)$ quand $n \\to \\infty$ .\n"
   ]
  },
  {
   "cell_type": "markdown",
   "id": "71d5e37f",
   "metadata": {},
   "source": [
    "> Compléter le script de la question 1. pour simuler des trajectoires du processus $Y_N$, à $N$ donné. On travaillera sur l'intervalle $[0,1]$."
   ]
  },
  {
   "cell_type": "markdown",
   "id": "ab28ab51",
   "metadata": {},
   "source": [
    ">**Question 3.** Montrer que $Y_N \\sim \\mathcal{N}(0,t), t > 0$ pour $N \\to \\infty$. On traitera séparément les deux cas suivants :\n",
    "> - $X_{\\lfloor tN \\rfloor} / \\sqrt{N} \\sim \\mathcal{N}(0,t)$ pour $N\\to \\infty$; \n",
    "> - $(tN - \\lfloor tN \\rfloor) \\xi_{\\lfloor tN \\rfloor} / \\sqrt{N}  \\stackrel{\\mathbb{P}}{\\longrightarrow} 0$ pour $N \\to \\infty$."
   ]
  }
 ],
 "metadata": {
  "kernelspec": {
   "display_name": "Python 3 (ipykernel)",
   "language": "python",
   "name": "python3"
  },
  "language_info": {
   "codemirror_mode": {
    "name": "ipython",
    "version": 3
   },
   "file_extension": ".py",
   "mimetype": "text/x-python",
   "name": "python",
   "nbconvert_exporter": "python",
   "pygments_lexer": "ipython3",
   "version": "3.11.5"
  }
 },
 "nbformat": 4,
 "nbformat_minor": 5
}
